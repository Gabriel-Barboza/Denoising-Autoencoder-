{
  "cells": [
    {
      "cell_type": "markdown",
      "metadata": {
        "id": "view-in-github",
        "colab_type": "text"
      },
      "source": [
        "<a href=\"https://colab.research.google.com/github/Gabriel-Barboza/Denoising-Autoencoder-/blob/main/autoencoder.ipynb\" target=\"_parent\"><img src=\"https://colab.research.google.com/assets/colab-badge.svg\" alt=\"Open In Colab\"/></a>"
      ]
    },
    {
      "cell_type": "markdown",
      "source": [
        "**Instala dependências**"
      ],
      "metadata": {
        "id": "xMLi5dQvKPnL"
      }
    },
    {
      "cell_type": "code",
      "execution_count": null,
      "metadata": {
        "id": "YxsxkoBvR8U2"
      },
      "outputs": [],
      "source": [
        "!pip install pillow scikit-image matplotlib scikit-learn tensorflow"
      ]
    },
    {
      "cell_type": "markdown",
      "source": [
        "**Cria o drive**"
      ],
      "metadata": {
        "id": "7WA27dRAKUrr"
      }
    },
    {
      "cell_type": "code",
      "execution_count": null,
      "metadata": {
        "id": "e40j2e8wS846"
      },
      "outputs": [],
      "source": [
        "from google.colab import drive\n",
        "drive.mount('/content/drive')"
      ]
    },
    {
      "cell_type": "markdown",
      "source": [
        "**Extrai os arquivos**"
      ],
      "metadata": {
        "id": "fG06LxqVKhvS"
      }
    },
    {
      "cell_type": "code",
      "execution_count": null,
      "metadata": {
        "id": "Qnl8NDcuTBBz"
      },
      "outputs": [],
      "source": [
        "import zipfile\n",
        "\n",
        "zip_path = '/content/drive/MyDrive/gh/pasta2.zip'\n",
        "extract_dir = '/content/imagens'\n",
        "\n",
        "with zipfile.ZipFile(zip_path, 'r') as zip_ref:\n",
        "    zip_ref.extractall(extract_dir)\n",
        "\n",
        "print(f\"Imagens extraídas para {extract_dir}\")"
      ]
    },
    {
      "cell_type": "markdown",
      "source": [
        "**Varáveis globais**"
      ],
      "metadata": {
        "id": "EC8w3k7GLBNc"
      }
    },
    {
      "cell_type": "code",
      "source": [
        "import os\n",
        "import numpy as np\n",
        "from PIL import Image\n",
        "from sklearn.model_selection import train_test_split\n",
        "from skimage.util import random_noise\n",
        "import matplotlib.pyplot as plt\n",
        "\n",
        "import tensorflow as tf\n",
        "from tensorflow import keras\n",
        "from tensorflow.keras import layers\n",
        "\n",
        "IMG_SIZE = (96, 96)\n",
        "IMG_DIR = '/content/imagens/pasta2'\n",
        "NOISE_TYPES = ['gaussian', 'salt', 'pepper', 's&p', 'speckle']\n",
        "RESULT_DIR = \"resultados\""
      ],
      "metadata": {
        "id": "Kyg-MqF6LAts"
      },
      "execution_count": null,
      "outputs": []
    },
    {
      "cell_type": "markdown",
      "source": [
        "**Carrega imagens do diretório**"
      ],
      "metadata": {
        "id": "PitXbWHrLJdG"
      }
    },
    {
      "cell_type": "code",
      "source": [
        "def load_images(img_dir, img_size):\n",
        "    imgs = []\n",
        "    for filename in os.listdir(img_dir):\n",
        "        if filename.lower().endswith(('png', 'jpg', 'jpeg')):\n",
        "            img_path = os.path.join(img_dir, filename)\n",
        "            img = Image.open(img_path).convert('RGB').resize(img_size)\n",
        "            img = np.array(img) / 255.0\n",
        "            imgs.append(img)\n",
        "    return np.array(imgs)\n",
        "\n",
        "print(\"Carregando imagens...\")\n",
        "images = load_images(IMG_DIR, IMG_SIZE)\n",
        "print(f\"Total de imagens carregadas: {len(images)}\")"
      ],
      "metadata": {
        "id": "6j6NYvB0LNMV"
      },
      "execution_count": null,
      "outputs": []
    },
    {
      "cell_type": "markdown",
      "source": [
        "**Limita o número de imagens para treino**"
      ],
      "metadata": {
        "id": "CQIPXQeXLif5"
      }
    },
    {
      "cell_type": "code",
      "source": [
        "N = 3000\n",
        "if len(images) > N:\n",
        "   images = images[:N]\n",
        "   print(f\"Usando apenas as primeiras {N} imagens para teste rápido.\")"
      ],
      "metadata": {
        "id": "TyV0xQbxMZyY"
      },
      "execution_count": null,
      "outputs": []
    },
    {
      "cell_type": "markdown",
      "source": [
        "**Adiciona ruído nas imagens**"
      ],
      "metadata": {
        "id": "Tm1J5K_RMyUs"
      }
    },
    {
      "cell_type": "code",
      "source": [
        "x_train, x_test = train_test_split(images, test_size=0.15, random_state=42)\n",
        "def add_random_noise(images):\n",
        "    noisy_imgs = []\n",
        "    for img in images:\n",
        "        noise_type = np.random.choice(['gaussian', 'salt'])\n",
        "        if noise_type == 'gaussian':\n",
        "            noisy = random_noise(img, mode='gaussian', var=0.01)\n",
        "        else:\n",
        "            noisy = random_noise(img, mode='salt', amount=0.08)\n",
        "        noisy_imgs.append(np.clip(noisy, 0., 1.))\n",
        "    return np.array(noisy_imgs)\n",
        "\n",
        "print(\"Adicionando ruídos às imagens...\")\n",
        "x_train_noisy = add_random_noise(x_train)\n",
        "x_test_noisy = add_random_noise(x_test)"
      ],
      "metadata": {
        "id": "R4bXRKouMudC"
      },
      "execution_count": null,
      "outputs": []
    },
    {
      "cell_type": "markdown",
      "source": [
        "**Construindo o autoencoder**"
      ],
      "metadata": {
        "id": "6gzWQz6YNDZ6"
      }
    },
    {
      "cell_type": "code",
      "source": [
        "def build_autoencoder(img_size):\n",
        "    input_img = keras.Input(shape=(*img_size, 3))\n",
        "    x = layers.Conv2D(32, (3,3), activation='relu', padding='same')(input_img)\n",
        "    x = layers.MaxPooling2D((2,2), padding='same')(x)\n",
        "    x = layers.Conv2D(32, (3,3), activation='relu', padding='same')(x)\n",
        "    x = layers.UpSampling2D((2,2))(x)\n",
        "    decoded = layers.Conv2D(3, (3,3), activation='sigmoid', padding='same')(x)\n",
        "\n",
        "    autoencoder = keras.Model(input_img, decoded)\n",
        "    return autoencoder\n",
        "\n",
        "autoencoder = build_autoencoder(IMG_SIZE)\n",
        "autoencoder.compile(optimizer='adam', loss='mse')\n",
        "autoencoder.summary()\n",
        "print(\"x_train_noisy shape:\", x_train_noisy.shape)\n",
        "print(\"x_train shape:\", x_train.shape)\n",
        "print(\"x_test_noisy shape:\", x_test_noisy.shape)\n",
        "print(\"x_test shape:\", x_test.shape)\n",
        "history = autoencoder.fit(\n",
        "    x_train_noisy, x_train,\n",
        "    epochs=5,\n",
        "    batch_size=8,\n",
        "    shuffle=True,\n",
        "    validation_data=(x_test_noisy, x_test)\n",
        ")\n",
        "\n",
        "print(\"Gerando imagens denoised...\")\n",
        "x_test_denoised = autoencoder.predict(x_test_noisy)"
      ],
      "metadata": {
        "id": "7SvFTlFZNGuu"
      },
      "execution_count": null,
      "outputs": []
    },
    {
      "cell_type": "markdown",
      "source": [
        "**Mostra o resultado**"
      ],
      "metadata": {
        "id": "wvFy1XR6NaBk"
      }
    },
    {
      "cell_type": "code",
      "execution_count": null,
      "metadata": {
        "id": "DvxPaaniTN6g"
      },
      "outputs": [],
      "source": [
        "os.makedirs(RESULT_DIR, exist_ok=True)\n",
        "for i in range(15):\n",
        "    orig = (x_test[i] * 255).astype(np.uint8)\n",
        "    noisy = (x_test_noisy[i] * 255).astype(np.uint8)\n",
        "    denoised = (x_test_denoised[i] * 255).astype(np.uint8)\n",
        "    Image.fromarray(orig).save(f\"{RESULT_DIR}/orig_{i}.png\")\n",
        "    Image.fromarray(noisy).save(f\"{RESULT_DIR}/noisy_{i}.png\")\n",
        "    Image.fromarray(denoised).save(f\"{RESULT_DIR}/denoised_{i}.png\")\n",
        "\n",
        "print(f\"Imagens de resultado salvas em: {RESULT_DIR}\")\n",
        "\n",
        "def plot_results(x_test, x_test_noisy, x_test_denoised, num=4):\n",
        "    fig, axs = plt.subplots(num, 3, figsize=(12, 4*num))\n",
        "    for i in range(num):\n",
        "        axs[i, 0].imshow(x_test[i])\n",
        "        axs[i, 0].set_title('Original')\n",
        "        axs[i, 0].axis('off')\n",
        "        axs[i, 1].imshow(x_test_noisy[i])\n",
        "        axs[i, 1].set_title('Com Ruído')\n",
        "        axs[i, 1].axis('off')\n",
        "        axs[i, 2].imshow(x_test_denoised[i])\n",
        "        axs[i, 2].set_title('Denoised (Autoencoder)')\n",
        "        axs[i, 2].axis('off')\n",
        "    plt.tight_layout()\n",
        "    plt.show()\n",
        "\n",
        "idxs = np.random.choice(len(x_test), size=4, replace=False)\n",
        "plot_results(x_test[idxs], x_test_noisy[idxs], x_test_denoised[idxs], num=4)"
      ]
    },
    {
      "cell_type": "markdown",
      "source": [
        "**Baixa o resultado**"
      ],
      "metadata": {
        "id": "zhVmE9k1RFen"
      }
    },
    {
      "cell_type": "code",
      "execution_count": null,
      "metadata": {
        "colab": {
          "base_uri": "https://localhost:8080/",
          "height": 17
        },
        "id": "MKM790MeTWE4",
        "outputId": "07cc9a05-6e41-4450-b8c4-945f11876b1d"
      },
      "outputs": [
        {
          "output_type": "display_data",
          "data": {
            "text/plain": [
              "<IPython.core.display.Javascript object>"
            ],
            "application/javascript": [
              "\n",
              "    async function download(id, filename, size) {\n",
              "      if (!google.colab.kernel.accessAllowed) {\n",
              "        return;\n",
              "      }\n",
              "      const div = document.createElement('div');\n",
              "      const label = document.createElement('label');\n",
              "      label.textContent = `Downloading \"${filename}\": `;\n",
              "      div.appendChild(label);\n",
              "      const progress = document.createElement('progress');\n",
              "      progress.max = size;\n",
              "      div.appendChild(progress);\n",
              "      document.body.appendChild(div);\n",
              "\n",
              "      const buffers = [];\n",
              "      let downloaded = 0;\n",
              "\n",
              "      const channel = await google.colab.kernel.comms.open(id);\n",
              "      // Send a message to notify the kernel that we're ready.\n",
              "      channel.send({})\n",
              "\n",
              "      for await (const message of channel.messages) {\n",
              "        // Send a message to notify the kernel that we're ready.\n",
              "        channel.send({})\n",
              "        if (message.buffers) {\n",
              "          for (const buffer of message.buffers) {\n",
              "            buffers.push(buffer);\n",
              "            downloaded += buffer.byteLength;\n",
              "            progress.value = downloaded;\n",
              "          }\n",
              "        }\n",
              "      }\n",
              "      const blob = new Blob(buffers, {type: 'application/binary'});\n",
              "      const a = document.createElement('a');\n",
              "      a.href = window.URL.createObjectURL(blob);\n",
              "      a.download = filename;\n",
              "      div.appendChild(a);\n",
              "      a.click();\n",
              "      div.remove();\n",
              "    }\n",
              "  "
            ]
          },
          "metadata": {}
        },
        {
          "output_type": "display_data",
          "data": {
            "text/plain": [
              "<IPython.core.display.Javascript object>"
            ],
            "application/javascript": [
              "download(\"download_e69604c7-4d4a-4fe1-88e0-d91c32543945\", \"resultados.zip\", 899341)"
            ]
          },
          "metadata": {}
        }
      ],
      "source": [
        "from google.colab import files\n",
        "import shutil\n",
        "\n",
        "\n",
        "shutil.make_archive(\"resultados\", 'zip', \"resultados\")\n",
        "files.download(\"resultados.zip\")"
      ]
    },
    {
      "cell_type": "markdown",
      "source": [
        "**Escolhe uma imagem para usar a I.A treinada**"
      ],
      "metadata": {
        "id": "IHcO7aJLRNRn"
      }
    },
    {
      "cell_type": "code",
      "execution_count": null,
      "metadata": {
        "id": "pa-TKRIKBt_P"
      },
      "outputs": [],
      "source": [
        "from google.colab import files\n",
        "uploaded = files.upload()\n",
        "\n",
        "import os\n",
        "img_filename = next(iter(uploaded))\n",
        "print(f\"Imagem enviada: {img_filename}\")"
      ]
    },
    {
      "cell_type": "markdown",
      "source": [
        "**Aplica o noise e denoise na imagem escolhida**"
      ],
      "metadata": {
        "id": "hbkuNKRVRU-A"
      }
    },
    {
      "cell_type": "code",
      "execution_count": null,
      "metadata": {
        "id": "-KrdtVyEaeA0"
      },
      "outputs": [],
      "source": [
        "from PIL import Image\n",
        "import numpy as np\n",
        "import matplotlib.pyplot as plt\n",
        "from skimage.util import random_noise\n",
        "\n",
        "IMG_SIZE = (112, 112)\n",
        "\n",
        "img = Image.open(img_filename).convert('RGB').resize(IMG_SIZE)\n",
        "img_np = np.array(img) / 255.0\n",
        "\n",
        "noisy_img = add_random_noise(img_np)\n",
        "\n",
        "input_noisy = np.expand_dims(noisy_img, axis=0)\n",
        "\n",
        "denoised = autoencoder.predict(input_noisy)\n",
        "denoised_img = np.clip(denoised[0], 0, 1)\n",
        "\n",
        "plt.figure(figsize=(10,4))\n",
        "plt.subplot(1,3,1)\n",
        "plt.imshow(img_np)\n",
        "plt.title('Original')\n",
        "plt.axis('off')\n",
        "\n",
        "plt.subplot(1,3,2)\n",
        "plt.imshow(noisy_img)\n",
        "plt.title('Com Ruído')\n",
        "plt.axis('off')\n",
        "\n",
        "plt.subplot(1,3,3)\n",
        "plt.imshow(denoised_img)\n",
        "plt.title('Denoised')\n",
        "plt.axis('off')\n",
        "\n",
        "plt.show()"
      ]
    },
    {
      "cell_type": "markdown",
      "source": [
        "**Aplica o denoise em uma imagem escolhida**"
      ],
      "metadata": {
        "id": "_srtFcYHOH1J"
      }
    },
    {
      "cell_type": "code",
      "source": [
        "from PIL import Image\n",
        "import numpy as np\n",
        "import matplotlib.pyplot as plt\n",
        "\n",
        "IMG_SIZE = (112, 112)\n",
        "\n",
        "img = Image.open(img_filename).convert('RGB').resize(IMG_SIZE)\n",
        "img_np = np.array(img) / 255.0\n",
        "\n",
        "input_img = np.expand_dims(img_np, axis=0)\n",
        "\n",
        "\n",
        "denoised = autoencoder.predict(input_img)\n",
        "denoised_img = np.clip(denoised[0], 0, 1)\n",
        "\n",
        "plt.figure(figsize=(8,4))\n",
        "plt.subplot(1,2,1)\n",
        "plt.imshow(img_np)\n",
        "plt.title('Imagem com Ruído')\n",
        "plt.axis('off')\n",
        "\n",
        "plt.subplot(1,2,2)\n",
        "plt.imshow(denoised_img)\n",
        "plt.title('Denoised (Autoencoder)')\n",
        "plt.axis('off')\n",
        "plt.show()"
      ],
      "metadata": {
        "id": "AD9HinL5N_zG"
      },
      "execution_count": null,
      "outputs": []
    }
  ],
  "metadata": {
    "colab": {
      "provenance": [],
      "include_colab_link": true
    },
    "kernelspec": {
      "display_name": "Python 3",
      "name": "python3"
    },
    "language_info": {
      "name": "python"
    }
  },
  "nbformat": 4,
  "nbformat_minor": 0
}